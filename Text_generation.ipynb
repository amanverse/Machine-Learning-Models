{
  "nbformat": 4,
  "nbformat_minor": 0,
  "metadata": {
    "colab": {
      "name": "Untitled",
      "provenance": [],
      "collapsed_sections": [],
      "authorship_tag": "ABX9TyOjcFyoa6YwQoTnhafR0p87",
      "include_colab_link": true
    },
    "kernelspec": {
      "name": "python3",
      "display_name": "Python 3"
    },
    "language_info": {
      "name": "python"
    }
  },
  "cells": [
    {
      "cell_type": "markdown",
      "metadata": {
        "id": "view-in-github",
        "colab_type": "text"
      },
      "source": [
        "<a href=\"https://colab.research.google.com/github/amanverse/mycaptain-tasks/blob/main/Text_generation.ipynb\" target=\"_parent\"><img src=\"https://colab.research.google.com/assets/colab-badge.svg\" alt=\"Open In Colab\"/></a>"
      ]
    },
    {
      "cell_type": "code",
      "execution_count": 6,
      "metadata": {
        "colab": {
          "base_uri": "https://localhost:8080/"
        },
        "id": "Er4VrkPwwFAr",
        "outputId": "f6d2087e-88c5-4906-f3f6-a9920195d348"
      },
      "outputs": [
        {
          "output_type": "stream",
          "name": "stdout",
          "text": [
            "Looking in indexes: https://pypi.org/simple, https://us-python.pkg.dev/colab-wheels/public/simple/\n",
            "Collecting mosestokenizer\n",
            "  Downloading mosestokenizer-1.2.1.tar.gz (37 kB)\n",
            "Requirement already satisfied: docopt in /usr/local/lib/python3.7/dist-packages (from mosestokenizer) (0.6.2)\n",
            "Collecting openfile\n",
            "  Downloading openfile-0.0.7-py3-none-any.whl (2.4 kB)\n",
            "Collecting uctools\n",
            "  Downloading uctools-1.3.0.tar.gz (4.6 kB)\n",
            "Collecting toolwrapper\n",
            "  Downloading toolwrapper-2.1.0.tar.gz (3.2 kB)\n",
            "Building wheels for collected packages: mosestokenizer, toolwrapper, uctools\n",
            "  Building wheel for mosestokenizer (setup.py) ... \u001b[?25l\u001b[?25hdone\n",
            "  Created wheel for mosestokenizer: filename=mosestokenizer-1.2.1-py3-none-any.whl size=49189 sha256=89cb008c23e6a92d96429771b134e2cce5c42020531bf4263e752d37d110e786\n",
            "  Stored in directory: /root/.cache/pip/wheels/b0/35/f7/af1258779a0b890abc3c79481460c597cb1f3659d0603cfb9d\n",
            "  Building wheel for toolwrapper (setup.py) ... \u001b[?25l\u001b[?25hdone\n",
            "  Created wheel for toolwrapper: filename=toolwrapper-2.1.0-py3-none-any.whl size=3353 sha256=96bc3a0411db4f19a506accb4ca4f739a3737da1696ac48f0b3bb548e2de8e95\n",
            "  Stored in directory: /root/.cache/pip/wheels/c5/4f/33/54741ffe08e38ececb1d28068a153729b4fe820bafa0a0691f\n",
            "  Building wheel for uctools (setup.py) ... \u001b[?25l\u001b[?25hdone\n",
            "  Created wheel for uctools: filename=uctools-1.3.0-py3-none-any.whl size=6161 sha256=c22982300a22c80fdff7a0714bdc432df66f51381a01543a4250d9f185b7edca\n",
            "  Stored in directory: /root/.cache/pip/wheels/fb/44/e9/914cf8fa71f0141f9314f862538d1218fcf2b94542a0fb7d35\n",
            "Successfully built mosestokenizer toolwrapper uctools\n",
            "Installing collected packages: uctools, toolwrapper, openfile, mosestokenizer\n",
            "Successfully installed mosestokenizer-1.2.1 openfile-0.0.7 toolwrapper-2.1.0 uctools-1.3.0\n"
          ]
        }
      ],
      "source": [
        "import numpy\n",
        "import sys\n",
        "import nltk\n",
        "!pip install mosestokenizer\n",
        "from nltk.tokenize import RegexpTokenizer"
      ]
    },
    {
      "cell_type": "code",
      "source": [
        "from nltk.corpus import stopwords\n",
        "from keras.models import Sequential\n",
        "from keras.layers import Dense,Dropout,LSTM\n",
        "from keras.utils import np_utils\n",
        "from keras.callbacks import ModelCheckpoint"
      ],
      "metadata": {
        "id": "l6-AWF61w4uw"
      },
      "execution_count": 7,
      "outputs": []
    },
    {
      "cell_type": "code",
      "source": [
        "# load data\n",
        "#Open in form of text file\n",
        "file=open('project_gutenberg.txt').read()"
      ],
      "metadata": {
        "id": "GN_fR9Hj4Yub"
      },
      "execution_count": 10,
      "outputs": []
    },
    {
      "cell_type": "code",
      "source": [
        "import nltk\n",
        "nltk.download('stopwords')"
      ],
      "metadata": {
        "colab": {
          "base_uri": "https://localhost:8080/"
        },
        "id": "puGnLepm8umX",
        "outputId": "54c56fe2-ce70-485b-c40f-5443958c3083"
      },
      "execution_count": 11,
      "outputs": [
        {
          "output_type": "stream",
          "name": "stderr",
          "text": [
            "[nltk_data] Downloading package stopwords to /root/nltk_data...\n",
            "[nltk_data]   Package stopwords is already up-to-date!\n"
          ]
        },
        {
          "output_type": "execute_result",
          "data": {
            "text/plain": [
              "True"
            ]
          },
          "metadata": {},
          "execution_count": 11
        }
      ]
    },
    {
      "cell_type": "code",
      "source": [
        "# tokenization\n",
        "#standadization\n",
        "def tokenize_words (input):\n",
        "  # lower case everything to standardize it\n",
        "  input=input.lower()\n",
        "  #instatiating the tokenizer\n",
        "  tokenizer=RegexpTokenizer(r'/w+')\n",
        "  # tokenize the text file into the tokens\n",
        "  tokens=tokenizer.tokenize(input)\n",
        "  # filterinjg the stop words using lambda\n",
        "  filtered=filter(lambda token:token not in stopwords.words('english'),tokens)\n",
        "  return \"\".join(filtered)\n",
        "\n",
        "# preprocess the input data, make tokens\n",
        "processed_input=tokenize_words(file)\n",
        "\n"
      ],
      "metadata": {
        "id": "RxlHaYbc4sqD"
      },
      "execution_count": 12,
      "outputs": []
    },
    {
      "cell_type": "code",
      "source": [
        "# chars to no.\n",
        "chars=sorted(list(set(processed_input)))\n",
        "chars_to_num=dict((c,i)for i,c in enumerate(chars))\n",
        "# convert char to input no.\n",
        "# we,ll sort the list of the set of all\n",
        "#characters that appear in i/p text and then use the enumerate function to get no. that represnt the chars\n",
        "# then create a dictionary that stores the keys and values ar chars and no. that represent them\n"
      ],
      "metadata": {
        "id": "u_x2cPNr6gw1"
      },
      "execution_count": 13,
      "outputs": []
    },
    {
      "cell_type": "code",
      "source": [
        "# check if words to chars or char to num (?!) has worked? just so we gwt an idea of whether our process of converting words to char has worked\n",
        "# we print the length of our variables\n",
        "input_len=len(processed_input)\n",
        "vocab_len=len(chars)\n",
        "print(\"Total no. of characters :\", input_len)\n",
        "print(\"Total vocab:\",vocab_len)\n"
      ],
      "metadata": {
        "colab": {
          "base_uri": "https://localhost:8080/"
        },
        "id": "6Rh4yJ-U7muG",
        "outputId": "7bca7a33-2412-4821-8a1f-2761e8bda7b8"
      },
      "execution_count": 14,
      "outputs": [
        {
          "output_type": "stream",
          "name": "stdout",
          "text": [
            "Total no. of characters : 20\n",
            "Total vocab: 2\n"
          ]
        }
      ]
    },
    {
      "cell_type": "code",
      "source": [
        "# seq length, defining how long we want an individual sequence here \n",
        "# individual sequence is complete mapping of input chars as integers\n",
        "seq_length=100\n",
        "x_data=[]\n",
        "y_data=[]"
      ],
      "metadata": {
        "id": "wu_zwLXwAdso"
      },
      "execution_count": 18,
      "outputs": []
    },
    {
      "cell_type": "code",
      "source": [
        "# loop through sequnce\n",
        "# here we're going through the entire list of i/p and converting chars to no. with a for loop\n",
        "# will create bunch of sequnce where each sequnce statrs with the next char in the i/p data\n",
        "# begining with first char\n",
        "for i in range (0, input_len - seq_length, 1):\n",
        "  # defining i/o sequence\n",
        "  in_seq=processed_input[i:i + seq_length]\n",
        "  # sequence length\n",
        "  out_seq=processed_input[i + seq_length]\n",
        "  # converting the list of chars to integer based on previous values and appending values to our lists\n",
        "  x_data.appned([char_to_num[char]for char in in_seq])\n",
        "  y_data.append(char_to_num[out_seq])"
      ],
      "metadata": {
        "id": "AjdCiaxYBH0b"
      },
      "execution_count": 19,
      "outputs": []
    },
    {
      "cell_type": "code",
      "source": [
        "# check to see how many total input sequence we have\n",
        "n_patterns=len(x_data)\n",
        "print('Total Patterns:',n_patterns\n",
        "#convert i/p sequence to np array that our network can use \n",
        "X = numpy.reshape(x_data, (n_patterns, seq_length, 1))\n",
        "X = X/float(vacab_len)\n",
        "# one hot encoding of our label data\n",
        "y=np_utils.to_categorical(y_data) "
      ],
      "metadata": {
        "colab": {
          "base_uri": "https://localhost:8080/",
          "height": 130
        },
        "id": "hERHms3vrduC",
        "outputId": "10caf109-0295-4744-f5a8-7007c63c8ba5"
      },
      "execution_count": 26,
      "outputs": [
        {
          "output_type": "error",
          "ename": "SyntaxError",
          "evalue": "ignored",
          "traceback": [
            "\u001b[0;36m  File \u001b[0;32m\"<ipython-input-26-cc2377a09454>\"\u001b[0;36m, line \u001b[0;32m5\u001b[0m\n\u001b[0;31m    X = numpy.reshape(x_data, (n_patterns, seq_length, 1))\u001b[0m\n\u001b[0m    ^\u001b[0m\n\u001b[0;31mSyntaxError\u001b[0m\u001b[0;31m:\u001b[0m invalid syntax\n"
          ]
        }
      ]
    },
    {
      "cell_type": "code",
      "source": [
        "# creating the model \n",
        "# creating sequential model\n",
        "# dropout is used to prevent \n",
        "# overfitting\n",
        "model=sequntial()\n",
        "model.add(LSTM(256,input-shape=(X.shape[1],X,shape[2]),return_sequence=True))\n",
        "model.add(Dropout(0.2))\n",
        "model.add(LSTM(256,return_sequence=True))\n",
        "model.add(Dropout(0.2))\n",
        "model.add(LSTM(128))\n",
        "model.add(Dropout(0.2))\n",
        "model.add(Dense(y_shape[1],activation='softmax'))\n"
      ],
      "metadata": {
        "colab": {
          "base_uri": "https://localhost:8080/",
          "height": 130
        },
        "id": "bOYy5MmNu1iE",
        "outputId": "6c2f06c7-af97-430a-8caa-9fe45bee1ee9"
      },
      "execution_count": 27,
      "outputs": [
        {
          "output_type": "error",
          "ename": "SyntaxError",
          "evalue": "ignored",
          "traceback": [
            "\u001b[0;36m  File \u001b[0;32m\"<ipython-input-27-714449b406bd>\"\u001b[0;36m, line \u001b[0;32m6\u001b[0m\n\u001b[0;31m    model.add(LSTM(256,input-shape=(X.shape[1],X,shape[2]),return_sequence=True))\u001b[0m\n\u001b[0m                      ^\u001b[0m\n\u001b[0;31mSyntaxError\u001b[0m\u001b[0;31m:\u001b[0m keyword can't be an expression\n"
          ]
        }
      ]
    },
    {
      "cell_type": "code",
      "source": [
        "#compoile the model\n",
        "model.compile(loss='categorical_crossentropy',optimizer='adam')"
      ],
      "metadata": {
        "id": "gbMWchK2zk0l"
      },
      "execution_count": null,
      "outputs": []
    },
    {
      "cell_type": "code",
      "source": [
        "# saving weights\n",
        "filepath='model_weights_saved.hdf5'\n",
        "checkpoint=ModelCheckpoint(filepath,monitor='loss',verbose=1,save_best=only=True,mode='min')\n",
        "desired_callbacks=[checkpoint]"
      ],
      "metadata": {
        "id": "2_VYoLsQz4GF"
      },
      "execution_count": null,
      "outputs": []
    },
    {
      "cell_type": "code",
      "source": [
        "# fit model and let it train\n",
        "model.fit(X,y,epochs=4,batch_size=256,callbacks=desired_callbacks)"
      ],
      "metadata": {
        "id": "X3Zjlqj90fBt"
      },
      "execution_count": null,
      "outputs": []
    },
    {
      "cell_type": "code",
      "source": [
        "# recompile model with saved weights\n",
        "filename='model_weights_saved.hdf5'\n",
        "model.load_weights(filename)\n",
        "model.compiler(loss='categorical_crossentropy',optimizer='adam')"
      ],
      "metadata": {
        "id": "9SfNU1RF06bF"
      },
      "execution_count": null,
      "outputs": []
    },
    {
      "cell_type": "code",
      "source": [
        "# output of model back into chars\n",
        "num_to_char=dict((i,c)for i,c in enumerate(chars))"
      ],
      "metadata": {
        "id": "HyFLkF0J1fT3"
      },
      "execution_count": null,
      "outputs": []
    },
    {
      "cell_type": "code",
      "source": [
        "# random seed to help ge generate\n",
        "start=numpy.random.randint(0,len(x_data)-1)\n",
        "pattern=x_data(start)\n",
        "print(\"Random Seed:\")\n",
        "print(\"\\\"\",''join([num_to_char[value]for value in pattern]),\"\\\"\")"
      ],
      "metadata": {
        "id": "dHTnpUiX1xn7"
      },
      "execution_count": null,
      "outputs": []
    },
    {
      "cell_type": "code",
      "source": [
        "# generate text \n",
        "for i in range (1000):\n",
        "  X = numpy.reshape(pattern, (1,len(pattern),1))\n",
        "  X = X/float(vocab_len)\n",
        "  prediction=model.predict(X,verbos=0)\n",
        "  index=numpy.argmax(prediction)\n",
        "  result = num_to_char[index]\n",
        "  seq_in = [num_to_char[value] for value in pattern]\n",
        "  sys.stdout.write(result)\n",
        "  pattern.append(index)\n",
        "  pattern = pattern[l:len(pattern)]"
      ],
      "metadata": {
        "id": "SXybkUid2pQn"
      },
      "execution_count": null,
      "outputs": []
    }
  ]
}